{
 "cells": [
  {
   "cell_type": "code",
   "execution_count": 1,
   "metadata": {},
   "outputs": [],
   "source": [
    "from dipole_inverse_tools import set_max_num_threads\n",
    "import numpy as np\n",
    "from pathlib import Path\n",
    "import time\n",
    "import matplotlib.pyplot as plt\n",
    "set_max_num_threads(4)\n",
    "import dipole_inverse as dpinv  # noqa: E402"
   ]
  },
  {
   "cell_type": "code",
   "execution_count": 96,
   "metadata": {},
   "outputs": [],
   "source": [
    "\n",
    "# location and name of QDM and cuboid file\n",
    "QDMfile = './artificial_sample_Bzgrid.txt'\n",
    "cuboidfile = './artificial_sample_cuboids.txt'\n",
    "\n",
    "# size of QDM domain\n",
    "QDM_domain = np.array([[0, 0], [40., 40.]]) * 1e-6\n",
    "# Spacing between two QDM sample points\n",
    "QDM_spacing = 2e-6\n",
    "# half length of QDM sensor\n",
    "QDM_deltax = 1e-6\n",
    "# half width of QDM sensor\n",
    "QDM_deltay = 1e-6\n",
    "# area of QDM sensor -> necessary? --> use deltax * deltay\n",
    "QDM_area = 4e-12\n",
    "# thickness of sample -> Unnecessary\n",
    "sample_height = 30e-6\n",
    "# distance between QDM and top sample\n",
    "scan_height = 2e-6\n",
    "# file to write magnetization grains to\n",
    "Magfile = 'test_artificial_sample_MAG.txt'\n",
    "\n",
    "ssm_inversion = dpinv.Dipole(QDMfile, cuboidfile, QDM_domain, QDM_spacing,\n",
    "                             QDM_deltax, QDM_deltay, QDM_area, sample_height,\n",
    "                             scan_height)"
   ]
  },
  {
   "cell_type": "code",
   "execution_count": 97,
   "metadata": {},
   "outputs": [
    {
     "data": {
      "text/plain": [
       "array([[0.e+00, 0.e+00],\n",
       "       [4.e-05, 4.e-05]])"
      ]
     },
     "execution_count": 97,
     "metadata": {},
     "output_type": "execute_result"
    }
   ],
   "source": [
    "QDM_domain"
   ]
  },
  {
   "cell_type": "code",
   "execution_count": 98,
   "metadata": {},
   "outputs": [
    {
     "name": "stdout",
     "output_type": "stream",
     "text": [
      "Particle = 4 Cuboid = 0\n",
      "Populating matrix took 0.004312276840209961 s\n"
     ]
    }
   ],
   "source": [
    "t = time.time()\n",
    "ssm_inversion.read_files()\n",
    "# ssm_inversion.cuboids[0][2] = 7e-6\n",
    "ssm_inversion.prepare_matrix(method='numba', verbose=True)\n",
    "t = time.time() - t\n",
    "print(f'Populating matrix took {t} s')"
   ]
  },
  {
   "cell_type": "code",
   "execution_count": 99,
   "metadata": {},
   "outputs": [
    {
     "name": "stdout",
     "output_type": "stream",
     "text": [
      "Start inversion with 441 knowns and 3 unknowns\n",
      "Inversion has been carried out\n"
     ]
    }
   ],
   "source": [
    "ssm_inversion.calculate_inverse(method='scipy_pinv2', \n",
    "                                rcond=1e-30\n",
    "                                )"
   ]
  },
  {
   "cell_type": "code",
   "execution_count": 100,
   "metadata": {},
   "outputs": [
    {
     "data": {
      "text/plain": [
       "array([[7.98605129e-08, 6.03622008e+04, 2.25426788e-08]])"
      ]
     },
     "execution_count": 100,
     "metadata": {},
     "output_type": "execute_result"
    }
   ],
   "source": [
    "ssm_inversion.Mag.reshape(-1, 3)"
   ]
  },
  {
   "cell_type": "code",
   "execution_count": 101,
   "metadata": {},
   "outputs": [
    {
     "data": {
      "text/plain": [
       "0.12605833333333333"
      ]
     },
     "execution_count": 101,
     "metadata": {},
     "output_type": "execute_result"
    }
   ],
   "source": [
    "60508 / 4.8e5"
   ]
  },
  {
   "cell_type": "code",
   "execution_count": 102,
   "metadata": {},
   "outputs": [
    {
     "data": {
      "text/plain": [
       "array([60362.20077115])"
      ]
     },
     "execution_count": 102,
     "metadata": {},
     "output_type": "execute_result"
    }
   ],
   "source": [
    "np.linalg.norm(ssm_inversion.Mag.reshape(-1, 3), axis=1)"
   ]
  },
  {
   "cell_type": "code",
   "execution_count": 103,
   "metadata": {},
   "outputs": [],
   "source": [
    "dpinv.plot_tools.set_grain_geometries(ssm_inversion, spatial_scaling=1e6)"
   ]
  },
  {
   "cell_type": "code",
   "execution_count": 104,
   "metadata": {},
   "outputs": [
    {
     "data": {
      "image/png": "[encoded data removed]",
      "text/plain": [
       "<Figure size 432x288 with 1 Axes>"
      ]
     },
     "metadata": {
      "needs_background": "light"
     },
     "output_type": "display_data"
    }
   ],
   "source": [
    "f, ax = plt.subplots()\n",
    "im = dpinv.plot_tools.plot_scan_field(ssm_inversion, ax, \n",
    "                                      imshow_args={'cmap': 'RdBu_r',\n",
    "                                                   'vmin': -20e-6 * 4e-12,\n",
    "                                                   'vmax': 20e-6 * 4e-12})"
   ]
  },
  {
   "cell_type": "code",
   "execution_count": 105,
   "metadata": {},
   "outputs": [
    {
     "data": {
      "image/png": "[encoded data removed]",
      "text/plain": [
       "<Figure size 432x288 with 1 Axes>"
      ]
     },
     "metadata": {
      "needs_background": "light"
     },
     "output_type": "display_data"
    }
   ],
   "source": [
    "f, ax = plt.subplots()\n",
    "im = dpinv.plot_tools.plot_inversion_field(ssm_inversion, ax, \n",
    "                                           imshow_args={'cmap': 'RdBu_r',\n",
    "                                                   'vmin': -20e-6 * 4e-12,\n",
    "                                                   'vmax': 20e-6 * 4e-12})"
   ]
  },
  {
   "cell_type": "code",
   "execution_count": 106,
   "metadata": {},
   "outputs": [
    {
     "data": {
      "image/png": "[encoded data removed]",
      "text/plain": [
       "<Figure size 432x288 with 1 Axes>"
      ]
     },
     "metadata": {
      "needs_background": "light"
     },
     "output_type": "display_data"
    }
   ],
   "source": [
    "f, ax = plt.subplots()\n",
    "im = dpinv.plot_tools.plot_residual(ssm_inversion, ax, \n",
    "                                    imshow_args={'cmap': 'RdBu_r',\n",
    "                                                   'vmin': -20e-6 * 4e-12,\n",
    "                                                   'vmax': 20e-6 * 4e-12})"
   ]
  },
  {
   "cell_type": "code",
   "execution_count": null,
   "metadata": {},
   "outputs": [],
   "source": []
  }
 ],
 "metadata": {
  "kernelspec": {
   "display_name": "Python 3",
   "language": "python",
   "name": "python3"
  },
  "language_info": {
   "codemirror_mode": {
    "name": "ipython",
    "version": 3
   },
   "file_extension": ".py",
   "mimetype": "text/x-python",
   "name": "python",
   "nbconvert_exporter": "python",
   "pygments_lexer": "ipython3",
   "version": "3.8.3"
  }
 },
 "nbformat": 4,
 "nbformat_minor": 4
}

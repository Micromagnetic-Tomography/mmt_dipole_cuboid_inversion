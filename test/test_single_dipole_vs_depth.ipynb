{
 "cells": [
  {
   "cell_type": "code",
   "execution_count": 1,
   "metadata": {},
   "outputs": [],
   "source": [
    "from dipole_inverse_tools import set_max_num_threads\n",
    "import numpy as np\n",
    "from pathlib import Path\n",
    "import time\n",
    "import matplotlib.pyplot as plt\n",
    "set_max_num_threads(4)\n",
    "import dipole_inverse as dpinv  # noqa: E402"
   ]
  },
  {
   "cell_type": "markdown",
   "metadata": {},
   "source": [
    "# Inversion"
   ]
  },
  {
   "cell_type": "markdown",
   "metadata": {},
   "source": [
    "Here we invert a single dipole at different depths. We generated the dipole signal using the point dipole field function using a magnetic moment for a particle of volume 1 micrometer^3, with a magnetization of magnetite: `Ms=4.8e5`.\n",
    "\n",
    "In the forward model the dipole is modelled as a cuboid of dimensions 1x1x1 micrometer^3. The dipole approximation should  improve as the dipole is deeper in the sample, i.e. farther away from the scan surface.\n",
    "We start by loading the `Dipole` class"
   ]
  },
  {
   "cell_type": "code",
   "execution_count": 2,
   "metadata": {},
   "outputs": [],
   "source": [
    "# size of QDM domain\n",
    "QDM_domain = np.array([[0, 0], [40., 40.]]) * 1e-6\n",
    "# Spacing between two QDM sample points\n",
    "QDM_spacing = 2e-6\n",
    "# half length of QDM sensor\n",
    "QDM_deltax = 1e-6\n",
    "# half width of QDM sensor\n",
    "QDM_deltay = 1e-6\n",
    "# area of QDM sensor -> necessary? --> use deltax * deltay\n",
    "QDM_area = 4e-12\n",
    "# thickness of sample -> Unnecessary\n",
    "sample_height = 30e-6\n",
    "# distance between QDM and top sample\n",
    "scan_height = 2e-6\n",
    "\n",
    "dip_inversion = dpinv.Dipole(QDM_domain, QDM_spacing,\n",
    "                             QDM_deltax, QDM_deltay, QDM_area, sample_height,\n",
    "                             scan_height)"
   ]
  },
  {
   "cell_type": "markdown",
   "metadata": {},
   "source": [
    "Now we compute the magnetizations from the dipole signal files at different depths:"
   ]
  },
  {
   "cell_type": "code",
   "execution_count": 4,
   "metadata": {},
   "outputs": [
    {
     "name": "stdout",
     "output_type": "stream",
     "text": [
      "Computing for depth = 6 micrometers\n",
      "Populating matrix took 0.003654 s\n",
      "Start inversion with 441 knowns and 3 unknowns\n",
      "Inversion has been carried out\n",
      "------------------------------------------------------------\n",
      "Computing for depth = 8 micrometers\n",
      "Populating matrix took 0.001018 s\n",
      "Start inversion with 441 knowns and 3 unknowns\n",
      "Inversion has been carried out\n",
      "------------------------------------------------------------\n",
      "Computing for depth = 10 micrometers\n",
      "Populating matrix took 0.001142 s\n",
      "Start inversion with 441 knowns and 3 unknowns\n",
      "Inversion has been carried out\n",
      "------------------------------------------------------------\n",
      "Computing for depth = 12 micrometers\n",
      "Populating matrix took 0.001436 s\n",
      "Start inversion with 441 knowns and 3 unknowns\n",
      "Inversion has been carried out\n",
      "------------------------------------------------------------\n",
      "Computing for depth = 14 micrometers\n",
      "Populating matrix took 0.000784 s\n",
      "Start inversion with 441 knowns and 3 unknowns\n",
      "Inversion has been carried out\n",
      "------------------------------------------------------------\n",
      "Computing for depth = 16 micrometers\n",
      "Populating matrix took 0.000827 s\n",
      "Start inversion with 441 knowns and 3 unknowns\n",
      "Inversion has been carried out\n",
      "------------------------------------------------------------\n",
      "Computing for depth = 20 micrometers\n",
      "Populating matrix took 0.000686 s\n",
      "Start inversion with 441 knowns and 3 unknowns\n",
      "Inversion has been carried out\n",
      "------------------------------------------------------------\n",
      "Computing for depth = 30 micrometers\n",
      "Populating matrix took 0.000791 s\n",
      "Start inversion with 441 knowns and 3 unknowns\n",
      "Inversion has been carried out\n",
      "------------------------------------------------------------\n",
      "Computing for depth = 40 micrometers\n",
      "Populating matrix took 0.000928 s\n",
      "Start inversion with 441 knowns and 3 unknowns\n",
      "Inversion has been carried out\n",
      "------------------------------------------------------------\n",
      "Computing for depth = 60 micrometers\n",
      "Populating matrix took 0.000586 s\n",
      "Start inversion with 441 knowns and 3 unknowns\n",
      "Inversion has been carried out\n",
      "------------------------------------------------------------\n"
     ]
    }
   ],
   "source": [
    "magnetizations = {}\n",
    "for depth in [6, 8, 10, 12, 14, 16, 20, 30, 40, 60]:\n",
    "    print(f'Computing for depth = {depth} micrometers')\n",
    "    QDM_data = f'./single_dipole_depth_{depth:02d}_Bzgrid.txt'\n",
    "    cuboid_data = f'./single_dipole_depth_{depth:02d}_cuboids.txt'\n",
    "    dip_inversion.read_files(QDM_data, cuboid_data, 1e-6)\n",
    "    # print(dip_inversion.cuboids)\n",
    "\n",
    "    t = time.time()\n",
    "    dip_inversion.prepare_matrix(method='cython', verbose=False)\n",
    "    t = time.time() - t\n",
    "    print(f'Populating matrix took {t:.6f} s')\n",
    "    \n",
    "    dip_inversion.calculate_inverse(method='scipy_pinv2', rcond=1e-25)\n",
    "    magnetizations[depth] = np.linalg.norm(dip_inversion.Mag.reshape(-1, 3), axis=1)\n",
    "    print('-' * 60)"
   ]
  },
  {
   "cell_type": "markdown",
   "metadata": {},
   "source": [
    "Now we can plot the magnetization as a function of depth of the dipole. The forward model improves when the dipole is farther away, which means the volume/shape of the dipole becomes less important and the cuboid behaves as a point dipole source:"
   ]
  },
  {
   "cell_type": "code",
   "execution_count": 5,
   "metadata": {},
   "outputs": [
    {
     "data": {
      "text/plain": [
       "Text(0, 0.5, 'Ms  A / m')"
      ]
     },
     "execution_count": 5,
     "metadata": {},
     "output_type": "execute_result"
    },
    {
     "data": {
      "image/png": "[encoded data removed]",
      "text/plain": [
       "<Figure size 432x288 with 1 Axes>"
      ]
     },
     "metadata": {
      "needs_background": "light"
     },
     "output_type": "display_data"
    }
   ],
   "source": [
    "f, ax = plt.subplots()\n",
    "for k in magnetizations:\n",
    "    ax.scatter([k], [magnetizations[k][0]], color='red')\n",
    "ax.set_xlabel('Depth  μm')\n",
    "ax.set_ylabel('Ms  A / m')"
   ]
  },
  {
   "cell_type": "code",
   "execution_count": 6,
   "metadata": {},
   "outputs": [],
   "source": [
    "import scipy.optimize as spo\n",
    "import scipy.interpolate as spi"
   ]
  },
  {
   "cell_type": "markdown",
   "metadata": {},
   "source": [
    "We can fit the relative error\n",
    "\n",
    "$$E = \\frac{|M(z) - M_{\\text{s}}|}{M_{\\text{s}}}$$\n",
    "\n",
    "where $z$ is the dipole depth, with a curve\n",
    "\n",
    "$$f(z) = a + \\frac{b}{z} + \\frac{c}{z^2}$$\n",
    "\n",
    "Therefore the error decreases with depth as approximately $z^{-2}$"
   ]
  },
  {
   "cell_type": "code",
   "execution_count": 7,
   "metadata": {},
   "outputs": [],
   "source": [
    "def func(x, a, b, c):\n",
    "    return a + b * x ** -1 + c * x ** -2\n",
    "\n",
    "Ms = 4.8e5\n",
    "rel_err_x = [k for k in magnetizations.keys()]\n",
    "rel_err_y = [abs(magnetizations[k][0] - Ms) / Ms for k in magnetizations.keys()]\n",
    "\n",
    "popt, pcov = spo.curve_fit(func, rel_err_x, rel_err_y)"
   ]
  },
  {
   "cell_type": "code",
   "execution_count": 8,
   "metadata": {},
   "outputs": [
    {
     "data": {
      "text/plain": [
       "array([1.78641414e-04, 3.07157233e-02, 2.76798439e-01])"
      ]
     },
     "execution_count": 8,
     "metadata": {},
     "output_type": "execute_result"
    }
   ],
   "source": [
    "popt"
   ]
  },
  {
   "cell_type": "code",
   "execution_count": 9,
   "metadata": {},
   "outputs": [
    {
     "data": {
      "text/plain": [
       "Text(0, 0.5, 'Rel Error  A / m')"
      ]
     },
     "execution_count": 9,
     "metadata": {},
     "output_type": "execute_result"
    },
    {
     "data": {
      "image/png": "[encoded data removed]",
      "text/plain": [
       "<Figure size 432x288 with 1 Axes>"
      ]
     },
     "metadata": {
      "needs_background": "light"
     },
     "output_type": "display_data"
    }
   ],
   "source": [
    "f, ax = plt.subplots()\n",
    "\n",
    "ax.scatter(rel_err_x, rel_err_y, color='red')\n",
    "\n",
    "x_i = np.linspace(5, 65, 100)\n",
    "y_i = func(x_i, *popt)\n",
    "ax.plot(x_i, y_i)\n",
    "\n",
    "ax.set_xlabel('Depth  μm')\n",
    "ax.set_ylabel('Rel Error  A / m')"
   ]
  }
 ],
 "metadata": {
  "kernelspec": {
   "display_name": "Python 3",
   "language": "python",
   "name": "python3"
  },
  "language_info": {
   "codemirror_mode": {
    "name": "ipython",
    "version": 3
   },
   "file_extension": ".py",
   "mimetype": "text/x-python",
   "name": "python",
   "nbconvert_exporter": "python",
   "pygments_lexer": "ipython3",
   "version": "3.8.8"
  }
 },
 "nbformat": 4,
 "nbformat_minor": 4
}
